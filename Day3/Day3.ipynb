{
 "cells": [
  {
   "cell_type": "markdown",
   "id": "fa372e19",
   "metadata": {},
   "source": [
    "## Day 3: \n",
    "## Part 1:\n",
    "Find the item type that appears in both compartments of each rucksack. What is the sum of the priorities of those item types?"
   ]
  },
  {
   "cell_type": "markdown",
   "id": "739fd418",
   "metadata": {},
   "source": [
    "- First, try to test with only 1 line code. "
   ]
  },
  {
   "cell_type": "code",
   "execution_count": 1,
   "id": "03aebbbf",
   "metadata": {},
   "outputs": [
    {
     "name": "stdout",
     "output_type": "stream",
     "text": [
      "24\n",
      "vJrwpWtwJgWr\n",
      "hcsFMMfFFhFp\n"
     ]
    }
   ],
   "source": [
    "# devide the string into two compartments\n",
    "\n",
    "text =\"vJrwpWtwJgWrhcsFMMfFFhFp\"\n",
    "length = len(text)\n",
    "\n",
    "first_half = text[:length//2]\n",
    "second_half = text[length//2:]\n",
    "print(length)\n",
    "print(first_half)\n",
    "print(second_half)"
   ]
  },
  {
   "cell_type": "code",
   "execution_count": 2,
   "id": "50c4954f",
   "metadata": {},
   "outputs": [
    {
     "data": {
      "text/plain": [
       "{'J', 'W', 'g', 'p', 'r', 't', 'v', 'w'}"
      ]
     },
     "execution_count": 2,
     "metadata": {},
     "output_type": "execute_result"
    }
   ],
   "source": [
    "# Use set to store only unique value\n",
    "set1 = set(first_half)\n",
    "set1"
   ]
  },
  {
   "cell_type": "code",
   "execution_count": 3,
   "id": "32954eec",
   "metadata": {},
   "outputs": [
    {
     "data": {
      "text/plain": [
       "{'F', 'M', 'c', 'f', 'h', 'p', 's'}"
      ]
     },
     "execution_count": 3,
     "metadata": {},
     "output_type": "execute_result"
    }
   ],
   "source": [
    "set2 = set(second_half)\n",
    "set2"
   ]
  },
  {
   "cell_type": "code",
   "execution_count": 4,
   "id": "3de016f8",
   "metadata": {},
   "outputs": [
    {
     "data": {
      "text/plain": [
       "'p'"
      ]
     },
     "execution_count": 4,
     "metadata": {},
     "output_type": "execute_result"
    }
   ],
   "source": [
    "# Select the item that intersect between two compartments\n",
    "item = list(set1.intersection(set2))\n",
    "item[0]"
   ]
  },
  {
   "cell_type": "code",
   "execution_count": 5,
   "id": "aea972b4",
   "metadata": {},
   "outputs": [
    {
     "name": "stdout",
     "output_type": "stream",
     "text": [
      "Note: you may need to restart the kernel to use updated packages.\n"
     ]
    },
    {
     "name": "stderr",
     "output_type": "stream",
     "text": [
      "ERROR: Could not find a version that satisfies the requirement string (from versions: none)\n",
      "ERROR: No matching distribution found for string\n"
     ]
    }
   ],
   "source": [
    "pip install string"
   ]
  },
  {
   "cell_type": "code",
   "execution_count": 6,
   "id": "d58e14e8",
   "metadata": {},
   "outputs": [],
   "source": [
    "\n",
    "from string import *"
   ]
  },
  {
   "cell_type": "code",
   "execution_count": 7,
   "id": "5690d420",
   "metadata": {},
   "outputs": [
    {
     "data": {
      "text/plain": [
       "['a',\n",
       " 'b',\n",
       " 'c',\n",
       " 'd',\n",
       " 'e',\n",
       " 'f',\n",
       " 'g',\n",
       " 'h',\n",
       " 'i',\n",
       " 'j',\n",
       " 'k',\n",
       " 'l',\n",
       " 'm',\n",
       " 'n',\n",
       " 'o',\n",
       " 'p',\n",
       " 'q',\n",
       " 'r',\n",
       " 's',\n",
       " 't',\n",
       " 'u',\n",
       " 'v',\n",
       " 'w',\n",
       " 'x',\n",
       " 'y',\n",
       " 'z',\n",
       " 'A',\n",
       " 'B',\n",
       " 'C',\n",
       " 'D',\n",
       " 'E',\n",
       " 'F',\n",
       " 'G',\n",
       " 'H',\n",
       " 'I',\n",
       " 'J',\n",
       " 'K',\n",
       " 'L',\n",
       " 'M',\n",
       " 'N',\n",
       " 'O',\n",
       " 'P',\n",
       " 'Q',\n",
       " 'R',\n",
       " 'S',\n",
       " 'T',\n",
       " 'U',\n",
       " 'V',\n",
       " 'W',\n",
       " 'X',\n",
       " 'Y',\n",
       " 'Z']"
      ]
     },
     "execution_count": 7,
     "metadata": {},
     "output_type": "execute_result"
    }
   ],
   "source": [
    "# Map the letter with the value by creating the letters list and the number list.\n",
    "# Then map them together to create a dictionary.\n",
    "\n",
    "import string\n",
    "upper_case = list(string.ascii_uppercase)\n",
    "lower_case = list(string.ascii_lowercase)\n",
    "letters = lower_case + upper_case\n",
    "letters\n"
   ]
  },
  {
   "cell_type": "code",
   "execution_count": 8,
   "id": "1a9d5d56",
   "metadata": {},
   "outputs": [
    {
     "data": {
      "text/plain": [
       "52"
      ]
     },
     "execution_count": 8,
     "metadata": {},
     "output_type": "execute_result"
    }
   ],
   "source": [
    "numbers = list(range(1,53))\n",
    "len(numbers)"
   ]
  },
  {
   "cell_type": "code",
   "execution_count": 9,
   "id": "83f9a422",
   "metadata": {},
   "outputs": [],
   "source": [
    "letter_to_number = dict(map(lambda i,j : (i,j) , letters,numbers))"
   ]
  },
  {
   "cell_type": "code",
   "execution_count": 10,
   "id": "ea1704d0",
   "metadata": {},
   "outputs": [
    {
     "data": {
      "text/plain": [
       "16"
      ]
     },
     "execution_count": 10,
     "metadata": {},
     "output_type": "execute_result"
    }
   ],
   "source": [
    "# Find the score corresponding to the intersect item in the letter_to_number dictionary.\n",
    "score = letter_to_number[item[0]]\n",
    "score"
   ]
  },
  {
   "cell_type": "markdown",
   "id": "d9855f9b",
   "metadata": {},
   "source": [
    "# Make a function based on the above trial"
   ]
  },
  {
   "cell_type": "code",
   "execution_count": 4,
   "id": "bf313396",
   "metadata": {},
   "outputs": [],
   "source": [
    "# Make a referenced dictionary\n",
    "import string\n",
    "upper_case = list(string.ascii_uppercase)\n",
    "lower_case = list(string.ascii_lowercase)\n",
    "letters = lower_case + upper_case\n",
    "numbers = list(range(1,53))\n",
    "letter_to_number = dict(map(lambda i,j : (i,j) , letters,numbers))\n",
    "\n",
    "def findValue(text):\n",
    "    # Split into two compartments\n",
    "    length = len(text)\n",
    "    first_half = text[:length//2]\n",
    "    second_half = text[length//2:]\n",
    "    \n",
    "    # make sets\n",
    "    set1 = set(first_half)\n",
    "    set2 = set(second_half)\n",
    "    # find intersection\n",
    "    item = list(set1.intersection(set2))[0]\n",
    "    \n",
    "    return  letter_to_number[item]\n",
    "    # return value based on the intersection."
   ]
  },
  {
   "cell_type": "markdown",
   "id": "199b2bf4",
   "metadata": {},
   "source": [
    "# Read the data\n",
    "Now we will test with the whole input."
   ]
  },
  {
   "cell_type": "code",
   "execution_count": 17,
   "id": "d9abb74f",
   "metadata": {},
   "outputs": [],
   "source": [
    "with open (\"input.txt\",\"r\") as f:\n",
    "    lines = f.readlines()\n"
   ]
  },
  {
   "cell_type": "code",
   "execution_count": 20,
   "id": "cd2798ef",
   "metadata": {},
   "outputs": [
    {
     "name": "stdout",
     "output_type": "stream",
     "text": [
      "8185\n"
     ]
    }
   ],
   "source": [
    "# Find the sum\n",
    "sum = 0\n",
    "for line in lines:\n",
    "    sum += findValue(line)\n",
    "print(sum)"
   ]
  },
  {
   "cell_type": "markdown",
   "id": "1b111200",
   "metadata": {},
   "source": [
    "## Part 2:\n",
    "Find the item type that corresponds to the badges of each three-Elf group. What is the sum of the priorities of those item types?"
   ]
  },
  {
   "cell_type": "code",
   "execution_count": 16,
   "id": "4e86a584",
   "metadata": {},
   "outputs": [],
   "source": [
    "text = [\"wMqvLMZHhHMvwLHjbvcjnnSBnvTQFn\",\"ttgJtRGJQctTZtZT\",\"CrZsJsPPZsGzwwsLwLmpwMDw\"]"
   ]
  },
  {
   "cell_type": "code",
   "execution_count": 28,
   "id": "229a4cbf",
   "metadata": {},
   "outputs": [
    {
     "data": {
      "text/plain": [
       "40"
      ]
     },
     "execution_count": 28,
     "metadata": {},
     "output_type": "execute_result"
    }
   ],
   "source": [
    "# Funcation for finding value for each 3 rucksacks.\n",
    "def findBatch(text):\n",
    "    \n",
    "    # make sets\n",
    "    set1 = set(text[0])\n",
    "    set2 = set(text[1])\n",
    "    set3 = set(text[2])\n",
    "    # find intersection\n",
    "    item = list(set1.intersection(set2).intersection(set3))[0]\n",
    "    \n",
    "    return  letter_to_number[item]\n",
    "    # return value based on the intersection.\n",
    "findBatch(text)"
   ]
  },
  {
   "cell_type": "code",
   "execution_count": 29,
   "id": "3360f8ae",
   "metadata": {},
   "outputs": [
    {
     "name": "stdout",
     "output_type": "stream",
     "text": [
      "2817\n"
     ]
    }
   ],
   "source": [
    "with open (\"input.txt\",\"r\") as f:\n",
    "    lines = f.readlines()\n",
    "\n",
    "# Find the sum\n",
    "sum = 0\n",
    "i = 0\n",
    "\n",
    "while(i != len(lines)):\n",
    "    text = lines[i: i+3]\n",
    "    for j in range(3):\n",
    "        text[j] = text[j].strip()\n",
    "   #print(text)\n",
    "    sum +=findBatch(text)\n",
    "    i = i+ 3\n",
    "   \n",
    "print(sum)"
   ]
  },
  {
   "cell_type": "code",
   "execution_count": null,
   "id": "28cc8547",
   "metadata": {},
   "outputs": [],
   "source": []
  }
 ],
 "metadata": {
  "kernelspec": {
   "display_name": "Python 3 (ipykernel)",
   "language": "python",
   "name": "python3"
  },
  "language_info": {
   "codemirror_mode": {
    "name": "ipython",
    "version": 3
   },
   "file_extension": ".py",
   "mimetype": "text/x-python",
   "name": "python",
   "nbconvert_exporter": "python",
   "pygments_lexer": "ipython3",
   "version": "3.10.8"
  }
 },
 "nbformat": 4,
 "nbformat_minor": 5
}
