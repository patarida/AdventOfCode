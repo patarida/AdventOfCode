{
 "cells": [
  {
   "cell_type": "markdown",
   "id": "cef91824",
   "metadata": {},
   "source": [
    "## Day 6:\n",
    "https://adventofcode.com/2022/day/6\n",
    "# Part 1:\n",
    "How many characters need to be processed before the first start-of-packet marker is detected?"
   ]
  },
  {
   "cell_type": "code",
   "execution_count": 1,
   "id": "0faea634",
   "metadata": {},
   "outputs": [],
   "source": [
    "# Here are a few more examples:\n",
    "\n",
    "#bvwbjplbgvbhsrlpgdmjqwftvncz: first marker after character 5\n",
    "#nppdvjthqldpwncqszvftbrmjlhg: first marker after character 6\n",
    "#nznrnfrfntjfmvfwmzdfjlvtqnbhcprsg: first marker after character 10\n",
    "#zcfzfwzzqfrljwzlrfnpqdbhtmscgvjw: first marker after character 11\n"
   ]
  },
  {
   "cell_type": "code",
   "execution_count": 8,
   "id": "5834a240",
   "metadata": {},
   "outputs": [],
   "source": [
    "def findChar(text):\n",
    "    # i is the position of the marker.\n",
    "    i = 0\n",
    "    for i in range(len(text)):\n",
    "         if (len(set(text[i:i+4])) == 4):\n",
    "                return i+4\n",
    "         i +=1\n",
    "    return None"
   ]
  },
  {
   "cell_type": "code",
   "execution_count": 9,
   "id": "912f2814",
   "metadata": {},
   "outputs": [
    {
     "data": {
      "text/plain": [
       "5"
      ]
     },
     "execution_count": 9,
     "metadata": {},
     "output_type": "execute_result"
    }
   ],
   "source": [
    "findChar('bvwbjplbgvbhsrlpgdmjqwftvncz')"
   ]
  },
  {
   "cell_type": "code",
   "execution_count": 10,
   "id": "76a04b83",
   "metadata": {},
   "outputs": [
    {
     "data": {
      "text/plain": [
       "6"
      ]
     },
     "execution_count": 10,
     "metadata": {},
     "output_type": "execute_result"
    }
   ],
   "source": [
    "findChar('nppdvjthqldpwncqszvftbrmjlhg')"
   ]
  },
  {
   "cell_type": "code",
   "execution_count": 11,
   "id": "55bede54",
   "metadata": {},
   "outputs": [
    {
     "data": {
      "text/plain": [
       "11"
      ]
     },
     "execution_count": 11,
     "metadata": {},
     "output_type": "execute_result"
    }
   ],
   "source": [
    "findChar('zcfzfwzzqfrljwzlrfnpqdbhtmscgvjw')"
   ]
  },
  {
   "cell_type": "markdown",
   "id": "e72cbfb5",
   "metadata": {},
   "source": [
    "# Read File"
   ]
  },
  {
   "cell_type": "code",
   "execution_count": 13,
   "id": "fd19d6a7",
   "metadata": {},
   "outputs": [
    {
     "data": {
      "text/plain": [
       "1034"
      ]
     },
     "execution_count": 13,
     "metadata": {},
     "output_type": "execute_result"
    }
   ],
   "source": [
    "with open('input.txt','r') as f:\n",
    "    line = f.readline()\n",
    "findChar(line)"
   ]
  },
  {
   "cell_type": "markdown",
   "id": "3ed51bc9",
   "metadata": {},
   "source": [
    "# Part 2: \n",
    "How many characters need to be processed before the first start-of-message marker is detected?"
   ]
  },
  {
   "cell_type": "code",
   "execution_count": 14,
   "id": "d8377a6d",
   "metadata": {},
   "outputs": [],
   "source": [
    "def findMSGMaker(text):\n",
    "    # i is the position of the marker.\n",
    "    i = 0\n",
    "    for i in range(len(text)):\n",
    "         if (len(set(text[i:i+14])) == 14):\n",
    "                return i+14\n",
    "         i +=1\n",
    "    return None"
   ]
  },
  {
   "cell_type": "code",
   "execution_count": 16,
   "id": "671298c7",
   "metadata": {},
   "outputs": [
    {
     "data": {
      "text/plain": [
       "26"
      ]
     },
     "execution_count": 16,
     "metadata": {},
     "output_type": "execute_result"
    }
   ],
   "source": [
    "findMSGMaker('zcfzfwzzqfrljwzlrfnpqdbhtmscgvjw')"
   ]
  },
  {
   "cell_type": "code",
   "execution_count": 17,
   "id": "d3fd0075",
   "metadata": {},
   "outputs": [
    {
     "data": {
      "text/plain": [
       "2472"
      ]
     },
     "execution_count": 17,
     "metadata": {},
     "output_type": "execute_result"
    }
   ],
   "source": [
    "findMSGMaker(line)"
   ]
  },
  {
   "cell_type": "code",
   "execution_count": null,
   "id": "fc4c2700",
   "metadata": {},
   "outputs": [],
   "source": []
  }
 ],
 "metadata": {
  "kernelspec": {
   "display_name": "Python 3 (ipykernel)",
   "language": "python",
   "name": "python3"
  },
  "language_info": {
   "codemirror_mode": {
    "name": "ipython",
    "version": 3
   },
   "file_extension": ".py",
   "mimetype": "text/x-python",
   "name": "python",
   "nbconvert_exporter": "python",
   "pygments_lexer": "ipython3",
   "version": "3.10.8"
  }
 },
 "nbformat": 4,
 "nbformat_minor": 5
}
