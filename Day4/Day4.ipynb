{
 "cells": [
  {
   "cell_type": "markdown",
   "id": "26027249",
   "metadata": {},
   "source": [
    "## Day 4\n",
    "https://adventofcode.com/2022/day/4\n",
    "\n",
    "## Part 1:"
   ]
  },
  {
   "cell_type": "code",
   "execution_count": 23,
   "id": "e71a8444",
   "metadata": {},
   "outputs": [],
   "source": [
    "\n",
    "def isFullyContain(min1, max1, min2, max2):\n",
    "    \"\"\"This function test two assignments if it is fully contained.\"\"\"\n",
    "    if (min1<=min2 and max1 >= max2):      # assignment 1 is fully contain assignment 2\n",
    "        return True \n",
    "    elif (min2<=min1 and max2 >= max1):  # assignment 2 is fully contain assignment 1\n",
    "        return True\n",
    "    else:\n",
    "        return False\n",
    "    \n",
    "def extractRange(line):\n",
    "    \"\"\"This function return the value of min, max of the pair of assignment\"\"\"\n",
    "    line = line.replace(\"-\",\",\")   # line is string\n",
    "    assignments = line.strip().split(\",\")\n",
    "    return int(assignments[0]), int(assignments[1]),int(assignments[2]), int(assignments[3])\n"
   ]
  },
  {
   "cell_type": "code",
   "execution_count": 30,
   "id": "215f7ced",
   "metadata": {},
   "outputs": [
    {
     "name": "stdout",
     "output_type": "stream",
     "text": [
      "8\n"
     ]
    }
   ],
   "source": [
    "sample_data = ['20-93,57-92', '3-99,59-98', '89-94,32-89', '26-90,91-93', '59-60,19-60', '60-62,59-77', '5-10,11-98', '62-92,61-92', '79-85,84-86', '23-27,22-93', '37-62,36-63', '1-1,3-28', '75-94,74-99']\n",
    "\n",
    "\n",
    "def countFullyContain(lines):\n",
    "    count = 0  \n",
    "    for data in lines:\n",
    "        min1, max1, min2, max2 = extractRange(data)\n",
    "        if (isFullyContain(min1, max1, min2, max2 )):\n",
    "            count += 1\n",
    "    return count\n",
    "        \n",
    "print(countFullyContain(sample_data))"
   ]
  },
  {
   "cell_type": "markdown",
   "id": "a2c2620c",
   "metadata": {},
   "source": [
    "# Use with files"
   ]
  },
  {
   "cell_type": "code",
   "execution_count": 36,
   "id": "5711a4ec",
   "metadata": {},
   "outputs": [
    {
     "name": "stdout",
     "output_type": "stream",
     "text": [
      "['20-93,57-92', '6-54,7-54', '3-99,59-98', '5-8,5-8']\n",
      "657\n"
     ]
    }
   ],
   "source": [
    "lines=[]\n",
    "with open (\"input.txt\", \"r\") as f:\n",
    "    lines = f.readlines()\n",
    "for i in range(len(lines)):\n",
    "    lines[i] = lines[i].strip()\n",
    "print(lines[1:5])\n",
    "print(countFullyContain(lines))"
   ]
  },
  {
   "cell_type": "code",
   "execution_count": 37,
   "id": "e5f0de9b",
   "metadata": {},
   "outputs": [
    {
     "name": "stdout",
     "output_type": "stream",
     "text": [
      "1000\n"
     ]
    }
   ],
   "source": [
    "print(len(lines))"
   ]
  },
  {
   "cell_type": "markdown",
   "id": "4378d925",
   "metadata": {},
   "source": [
    "# Part 2:\n",
    "https://adventofcode.com/2022/day/4#part2\n",
    "the Elves would like to know the number of pairs that overlap at all."
   ]
  },
  {
   "cell_type": "code",
   "execution_count": 38,
   "id": "26459c46",
   "metadata": {},
   "outputs": [],
   "source": [
    "def isOverlap(min1, max1, min2, max2):\n",
    "    \"\"\"This function test two assignments if it is ovarlapped.\"\"\"\n",
    "    if (min1<=min2 and max1 >= min2):      # assignment 1 is fully contain assignment 2\n",
    "        return True \n",
    "    elif (min2<=min1 and max2 >= min1):  # assignment 2 is fully contain assignment 1\n",
    "        return True\n",
    "    else:\n",
    "        return False"
   ]
  },
  {
   "cell_type": "code",
   "execution_count": 39,
   "id": "bdfcddad",
   "metadata": {},
   "outputs": [
    {
     "name": "stdout",
     "output_type": "stream",
     "text": [
      "10\n"
     ]
    }
   ],
   "source": [
    "sample_data = ['20-93,57-92', '3-99,59-98', '89-94,32-89', '26-90,91-93', '59-60,19-60', '60-62,59-77', '5-10,11-98', '62-92,61-92', '79-85,84-86', '23-27,22-93', '37-62,36-63', '1-1,3-28', '75-94,74-99']\n",
    "\n",
    "\n",
    "def countOverlap(lines):\n",
    "    count = 0  \n",
    "    for data in lines:\n",
    "        min1, max1, min2, max2 = extractRange(data)\n",
    "        if (isOverlap(min1, max1, min2, max2 )):\n",
    "            count += 1\n",
    "    return count\n",
    "        \n",
    "print(countOverlap(sample_data))"
   ]
  },
  {
   "cell_type": "code",
   "execution_count": null,
   "id": "102c256b",
   "metadata": {},
   "outputs": [],
   "source": [
    "lines=[]\n",
    "with open (\"input.txt\", \"r\") as f:\n",
    "    lines = f.readlines()\n",
    "for i in range(len(lines)):\n",
    "    lines[i] = lines[i].strip()\n",
    "print(lines[1:5])\n",
    "print(countFullyContain(lines))"
   ]
  }
 ],
 "metadata": {
  "kernelspec": {
   "display_name": "Python 3 (ipykernel)",
   "language": "python",
   "name": "python3"
  },
  "language_info": {
   "codemirror_mode": {
    "name": "ipython",
    "version": 3
   },
   "file_extension": ".py",
   "mimetype": "text/x-python",
   "name": "python",
   "nbconvert_exporter": "python",
   "pygments_lexer": "ipython3",
   "version": "3.10.8"
  }
 },
 "nbformat": 4,
 "nbformat_minor": 5
}
